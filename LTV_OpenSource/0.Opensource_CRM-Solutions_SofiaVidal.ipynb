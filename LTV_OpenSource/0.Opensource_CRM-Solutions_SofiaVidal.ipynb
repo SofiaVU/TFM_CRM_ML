{
 "cells": [
  {
   "cell_type": "markdown",
   "metadata": {},
   "source": [
    "# TFM - Desarrollo ML para servicio CRM"
   ]
  },
  {
   "cell_type": "markdown",
   "metadata": {},
   "source": [
    "Los siguientes apartados forman parte del Trabajo Fin de Máster (TFM) con Título \"**Desarrollo de unaplataforma CRM (Gestión de relaciones con el cliente) con soluciones basadas en en aprendizaje automático sobre cloud privada**\"llevado a cabo por **Sofía Vidal Urriza**. El contenido de estas secciones se centra en el desarrollo de soluciones de código abierto para en el análisis de datos y la realización de predicciones sobre un conjunto de datos de una plataforma de comercio electrónico ( o E-commerce). "
   ]
  },
  {
   "cell_type": "markdown",
   "metadata": {},
   "source": [
    "# Table of Contents"
   ]
  },
  {
   "cell_type": "markdown",
   "metadata": {},
   "source": [
    "0. [Índice](0.Opensource_CRM-Solutions_SofiaVidal.ipynb)\n",
    "1. [Descripcion de los Datos](1.Descripcion_de_los_Datos.ipynb)\n",
    "2. [Métricas - Análisis y seguimiento de las ventas](2.Metricas_Analisis_Seguimiento_Ventas.ipynb)\n",
    "3. [Segmentación de Clientes](3.Segmentacion_de_Clientes.ipynb)\n",
    "4. [Customer Lifetime Value (LTV or CLTV)](4.Customer_Livetime_Value_LTV.ipynb)\n",
    "5. [Predicciones con modelos ML persistentes](5.Predicciones_con_modelos_persistentes.ipynb)\n"
   ]
  },
  {
   "cell_type": "code",
   "execution_count": null,
   "metadata": {},
   "outputs": [],
   "source": []
  }
 ],
 "metadata": {
  "kernelspec": {
   "display_name": "Python 3",
   "language": "python",
   "name": "python3"
  },
  "language_info": {
   "codemirror_mode": {
    "name": "ipython",
    "version": 3
   },
   "file_extension": ".py",
   "mimetype": "text/x-python",
   "name": "python",
   "nbconvert_exporter": "python",
   "pygments_lexer": "ipython3",
   "version": "3.7.4"
  }
 },
 "nbformat": 4,
 "nbformat_minor": 2
}
