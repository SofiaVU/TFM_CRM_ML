{
 "cells": [
  {
   "cell_type": "markdown",
   "metadata": {},
   "source": [
    "# TFM - Opensoruce Code "
   ]
  },
  {
   "cell_type": "markdown",
   "metadata": {},
   "source": [
    "Los siguientes apartados forman parte del Tranajo Fin de Máster (TFM) con Título \"**Desarrollo de unaplataforma CRM (Gestión de relaciones con el cliente) con soluciones basadas en en aprendizaje automático sobre cloud privada**\"llevado a cabo por **Sofía Vidal Urriza**. El contenido de estas secciones se centra en el desarrollo de soluciones de código abierto para en el análisis de datos y la realización de predicciones sobre un conjunto de datos de una plataforma de comercio electrónico ( o E-commerce). "
   ]
  },
  {
   "cell_type": "markdown",
   "metadata": {},
   "source": [
    "# Table of Contents"
   ]
  },
  {
   "cell_type": "markdown",
   "metadata": {},
   "source": [
    "1. [Home](0.Opensource_CRM-Solutions_SofiaVidal.ipynb)\n",
    "2. [Metrics - Track and Analyze Sales](1.Metrics-Track_and_Analyze_Sales.ipynb)\n",
    "3. [Customer Segmentation](2.Customer_Segmentation.ipynb)\n",
    "4. [Customer Livetime Value (LTV or CLV)](3.Customer_Livetime_Value_LTV_or_CLV.ipynb)\n",
    "5. [Churn Prediction](4.Churn_Prediction.ipynb)\n"
   ]
  },
  {
   "cell_type": "code",
   "execution_count": null,
   "metadata": {},
   "outputs": [],
   "source": []
  }
 ],
 "metadata": {
  "kernelspec": {
   "display_name": "Python 3",
   "language": "python",
   "name": "python3"
  },
  "language_info": {
   "codemirror_mode": {
    "name": "ipython",
    "version": 3
   },
   "file_extension": ".py",
   "mimetype": "text/x-python",
   "name": "python",
   "nbconvert_exporter": "python",
   "pygments_lexer": "ipython3",
   "version": "3.7.4"
  }
 },
 "nbformat": 4,
 "nbformat_minor": 2
}
