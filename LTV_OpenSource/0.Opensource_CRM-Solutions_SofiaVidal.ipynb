{
 "cells": [
  {
   "cell_type": "markdown",
   "metadata": {},
   "source": [
    "# TFM - Opensoruce Code "
   ]
  },
  {
   "cell_type": "markdown",
   "metadata": {},
   "source": [
    "The following sections are part of the final thesis called \"**Desarrollo de unaplataforma CRM (CostumerRelationship Management)con soluciones basadas enaprendizaje automático sobrecloud privada**\" carried out by **Sofía Vidal**. They are focused on developing opensource solutions for the implementation of data analysis and predictions of an e-commerce dataset focusing on finding the higest valuable customers which would give bring higer revenue to the business for lifetime "
   ]
  },
  {
   "cell_type": "markdown",
   "metadata": {},
   "source": [
    "# Table of Contents"
   ]
  },
  {
   "cell_type": "markdown",
   "metadata": {},
   "source": [
    "1. [Home](0.Opensource_CRM-Solutions_SofiaVidal.ipynb)\n",
    "2. [Metrics - Track and Analyze Sales](1.Metrics-Track_and_Analyze_Sales.ipynb)\n",
    "3. [Customer Segmentation](2.Customer_Segmentation.ipynb)\n",
    "4. [Customer Livetime Value (LTV or CLV)](3.Customer_Livetime_Value_LTV_or_CLV.ipynb)\n",
    "5. [Churn Prediction](4.Churn_Prediction.ipynb)\n"
   ]
  },
  {
   "cell_type": "code",
   "execution_count": null,
   "metadata": {},
   "outputs": [],
   "source": []
  }
 ],
 "metadata": {
  "kernelspec": {
   "display_name": "Python 3",
   "language": "python",
   "name": "python3"
  },
  "language_info": {
   "codemirror_mode": {
    "name": "ipython",
    "version": 3
   },
   "file_extension": ".py",
   "mimetype": "text/x-python",
   "name": "python",
   "nbconvert_exporter": "python",
   "pygments_lexer": "ipython3",
   "version": "3.7.4"
  }
 },
 "nbformat": 4,
 "nbformat_minor": 2
}
