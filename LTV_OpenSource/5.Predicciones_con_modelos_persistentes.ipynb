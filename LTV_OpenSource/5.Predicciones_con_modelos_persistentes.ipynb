{
 "cells": [
  {
   "cell_type": "markdown",
   "metadata": {},
   "source": [
    "# 5. Predicciones con Modelos Persistente\n",
    "\n",
    "El objetivo de este Jupiter Notebook es hacer una demostración de cómo se llevaría a cabo la realización de predicciones con los modelos anteriomente entrenados y ya listos para producción. \n",
    "\n",
    "Para ello, podemos hacer uso de las dos librerías más conocidas: **Pickle** y **Joblib**. Ambas nos permiten tanto guardar los modelos entrenados de forma persistente (Ver sección: 4.Customer_Livetime_Value_LTV) como cargarlos para ser empleados. En concreto, en este notebook emplearemos Pickle, principalmente porque la librería joblib será deprecada en versiones siguientes. \n",
    "\n",
    "El codigo presente en este notebook, será similar al que incluiremos en el servidor FLASK para el desarrollo de los servicios de valor añadido en la parte backend del presente TFM. "
   ]
  },
  {
   "cell_type": "code",
   "execution_count": 1,
   "metadata": {},
   "outputs": [],
   "source": [
    "import pickle\n",
    "import numpy as np \n",
    "import pandas as pd\n",
    "\n",
    "###### OPTION 2: Use joblib BUT this library will be deprecated #####\n",
    "#import joblib\n",
    "#model_xgb    = joblib.load('ltv_xgb_model.pkl')\n",
    "#model_linReg = joblib.load('ltv_linReg_model.pkl')"
   ]
  },
  {
   "cell_type": "markdown",
   "metadata": {},
   "source": [
    "## Predicción del LTV usando XGBoost Model (Classifier)  "
   ]
  },
  {
   "cell_type": "code",
   "execution_count": 2,
   "metadata": {},
   "outputs": [],
   "source": [
    "# Importamos el modelo ML guardado\n",
    "model_xgb = pickle.load(open('ltv_xgb_model.pkl','rb'))\n"
   ]
  },
  {
   "cell_type": "code",
   "execution_count": 3,
   "metadata": {},
   "outputs": [],
   "source": [
    "# Generamos el imput del modelo ( esto será los params pasados a traves de la API desde el front) *\n",
    "data_json= {\n",
    "    \"Recency\": 11,\n",
    "    \"Revenue\": 393.28,\n",
    "    \"Frequency\": 30\n",
    "}"
   ]
  },
  {
   "cell_type": "code",
   "execution_count": 4,
   "metadata": {},
   "outputs": [
    {
     "data": {
      "text/html": [
       "<div>\n",
       "<style scoped>\n",
       "    .dataframe tbody tr th:only-of-type {\n",
       "        vertical-align: middle;\n",
       "    }\n",
       "\n",
       "    .dataframe tbody tr th {\n",
       "        vertical-align: top;\n",
       "    }\n",
       "\n",
       "    .dataframe thead th {\n",
       "        text-align: right;\n",
       "    }\n",
       "</style>\n",
       "<table border=\"1\" class=\"dataframe\">\n",
       "  <thead>\n",
       "    <tr style=\"text-align: right;\">\n",
       "      <th></th>\n",
       "      <th>Recency</th>\n",
       "      <th>Frequency</th>\n",
       "      <th>Revenue</th>\n",
       "    </tr>\n",
       "  </thead>\n",
       "  <tbody>\n",
       "    <tr>\n",
       "      <td>0</td>\n",
       "      <td>11</td>\n",
       "      <td>30</td>\n",
       "      <td>393.28</td>\n",
       "    </tr>\n",
       "  </tbody>\n",
       "</table>\n",
       "</div>"
      ],
      "text/plain": [
       "   Recency  Frequency  Revenue\n",
       "0       11         30   393.28"
      ]
     },
     "execution_count": 4,
     "metadata": {},
     "output_type": "execute_result"
    }
   ],
   "source": [
    "# Convertimos los datos recibidos de la api en datarame para que sirvan de input al modelo\n",
    "columns = ['Recency', 'Frequency','Revenue']\n",
    "index = ['0']\n",
    "df = pd.DataFrame(data_json, columns=columns, index=index)\n",
    "df"
   ]
  },
  {
   "cell_type": "code",
   "execution_count": 5,
   "metadata": {},
   "outputs": [
    {
     "data": {
      "text/plain": [
       "0"
      ]
     },
     "execution_count": 5,
     "metadata": {},
     "output_type": "execute_result"
    }
   ],
   "source": [
    "# Predecimos con el modelo XGBoost y visualizamos el output optenido\n",
    "prediction_xgb = model_xgb.predict(df)\n",
    "prediction_xgb[0]"
   ]
  },
  {
   "cell_type": "markdown",
   "metadata": {},
   "source": [
    "## Predicción del Revenue (gasto) de un clientes en los siguientes 6 meses (Linear Regression)  "
   ]
  },
  {
   "cell_type": "code",
   "execution_count": 6,
   "metadata": {},
   "outputs": [],
   "source": [
    "# Importamos el modelo ML guardado\n",
    "model_linReg = pickle.load(open('ltv_linReg_model.pkl','rb'))"
   ]
  },
  {
   "cell_type": "code",
   "execution_count": 7,
   "metadata": {},
   "outputs": [],
   "source": [
    "# Generamos el imput del modelo ( esto será los params pasados a traves de la API desde el front) *\n",
    "data_json2 = {\n",
    "    \"Recency\": 15,\n",
    "    \"Frequency\": 100,\n",
    "    \"Revenue\": 15000,\n",
    "    \"Num_distinctProducts\": 15,\n",
    "    \"Avg_distinctProducts\": 7,\n",
    "    \"Quantity\": 122,\n",
    "    \"Avg_RevenueTransactions\": 200\n",
    "}"
   ]
  },
  {
   "cell_type": "code",
   "execution_count": 8,
   "metadata": {},
   "outputs": [
    {
     "data": {
      "text/html": [
       "<div>\n",
       "<style scoped>\n",
       "    .dataframe tbody tr th:only-of-type {\n",
       "        vertical-align: middle;\n",
       "    }\n",
       "\n",
       "    .dataframe tbody tr th {\n",
       "        vertical-align: top;\n",
       "    }\n",
       "\n",
       "    .dataframe thead th {\n",
       "        text-align: right;\n",
       "    }\n",
       "</style>\n",
       "<table border=\"1\" class=\"dataframe\">\n",
       "  <thead>\n",
       "    <tr style=\"text-align: right;\">\n",
       "      <th></th>\n",
       "      <th>Recency</th>\n",
       "      <th>Frequency</th>\n",
       "      <th>Revenue</th>\n",
       "      <th>Num_distinctProducts</th>\n",
       "      <th>Avg_distinctProducts</th>\n",
       "      <th>Quantity</th>\n",
       "      <th>Avg_RevenueTransactions</th>\n",
       "    </tr>\n",
       "  </thead>\n",
       "  <tbody>\n",
       "    <tr>\n",
       "      <td>0</td>\n",
       "      <td>15</td>\n",
       "      <td>100</td>\n",
       "      <td>15000</td>\n",
       "      <td>15</td>\n",
       "      <td>7</td>\n",
       "      <td>122</td>\n",
       "      <td>200</td>\n",
       "    </tr>\n",
       "  </tbody>\n",
       "</table>\n",
       "</div>"
      ],
      "text/plain": [
       "   Recency  Frequency  Revenue  Num_distinctProducts  Avg_distinctProducts  \\\n",
       "0       15        100    15000                    15                     7   \n",
       "\n",
       "   Quantity  Avg_RevenueTransactions  \n",
       "0       122                      200  "
      ]
     },
     "execution_count": 8,
     "metadata": {},
     "output_type": "execute_result"
    }
   ],
   "source": [
    "# Convertimos los datos recibidos de la api en datarame para que sirvan de input al modelo\n",
    "columns2 = ['Recency', 'Frequency','Revenue', 'Num_distinctProducts','Avg_distinctProducts','Quantity','Avg_RevenueTransactions']\n",
    "index2 = ['0']\n",
    "df2 = pd.DataFrame(data_json2, columns=columns2, index=index2)\n",
    "df2"
   ]
  },
  {
   "cell_type": "code",
   "execution_count": 9,
   "metadata": {},
   "outputs": [
    {
     "data": {
      "text/plain": [
       "46259.353586905614"
      ]
     },
     "execution_count": 9,
     "metadata": {},
     "output_type": "execute_result"
    }
   ],
   "source": [
    "# Predecimos con el modelo Linear Regression y visualizamos el output optenido \n",
    "prediction_linReg = model_linReg.predict(df2)\n",
    "prediction_linReg[0]"
   ]
  },
  {
   "cell_type": "markdown",
   "metadata": {},
   "source": [
    "\\* *Los datos empleados como input a los modelos son inventados*"
   ]
  },
  {
   "cell_type": "code",
   "execution_count": null,
   "metadata": {},
   "outputs": [],
   "source": []
  }
 ],
 "metadata": {
  "kernelspec": {
   "display_name": "Python 3",
   "language": "python",
   "name": "python3"
  },
  "language_info": {
   "codemirror_mode": {
    "name": "ipython",
    "version": 3
   },
   "file_extension": ".py",
   "mimetype": "text/x-python",
   "name": "python",
   "nbconvert_exporter": "python",
   "pygments_lexer": "ipython3",
   "version": "3.7.4"
  }
 },
 "nbformat": 4,
 "nbformat_minor": 2
}
